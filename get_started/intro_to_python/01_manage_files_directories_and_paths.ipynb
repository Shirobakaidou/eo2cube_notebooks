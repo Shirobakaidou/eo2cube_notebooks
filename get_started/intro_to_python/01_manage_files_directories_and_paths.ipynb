{
 "cells": [
  {
   "cell_type": "markdown",
   "metadata": {},
   "source": [
    "**`os`** and **`glob`** are two default Python packages that make management of files, directories and paths more convenient. "
   ]
  },
  {
   "cell_type": "markdown",
   "metadata": {},
   "source": [
    "## Package \"os\""
   ]
  },
  {
   "cell_type": "code",
   "execution_count": 1,
   "metadata": {},
   "outputs": [],
   "source": [
    "import os"
   ]
  },
  {
   "cell_type": "markdown",
   "metadata": {},
   "source": [
    "Assuming that we have a local project folder \"`project_OO`\" look like this:\n",
    "\n",
    "***\n",
    "* project_OO\n",
    "    * data\n",
    "        * input\n",
    "            * raster\n",
    "                * net_001.tif\n",
    "                * net_011.tif\n",
    "                * net_112.tif\n",
    "                * vessel_001.tif\n",
    "                * vessel_002.tif\n",
    "                * vessel_003.tif\n",
    "            * vector\n",
    "                * basin.geojson\n",
    "    * script\n",
    "***\n",
    "\n",
    "It contains the input raster and vector data we need for analysis, so \n",
    "we firstly want to make this folder be our working directory, so we ***set working directory***: "
   ]
  },
  {
   "cell_type": "code",
   "execution_count": 5,
   "metadata": {},
   "outputs": [],
   "source": [
    "# Set / Change working directory\n",
    "os.chdir(\"I:/project_OO\")"
   ]
  },
  {
   "cell_type": "markdown",
   "metadata": {},
   "source": [
    "We could also ***check current working directory*** before or after changing working directory by doing: "
   ]
  },
  {
   "cell_type": "code",
   "execution_count": 6,
   "metadata": {},
   "outputs": [
    {
     "data": {
      "text/plain": [
       "'I:\\\\project_OO'"
      ]
     },
     "execution_count": 6,
     "metadata": {},
     "output_type": "execute_result"
    }
   ],
   "source": [
    "# Check current working directory\n",
    "os.getcwd()"
   ]
  },
  {
   "cell_type": "markdown",
   "metadata": {},
   "source": [
    "We usually prefer having input and output data placed separately; luckily using `os` package, we don't have to define a path with its full path name everytime, we could ***join path*** instead by using `os.path.join(\"dirA\", \"dirB\")`. For example:"
   ]
  },
  {
   "cell_type": "code",
   "execution_count": 9,
   "metadata": {},
   "outputs": [
    {
     "name": "stdout",
     "output_type": "stream",
     "text": [
      "I:\\project_OO\\data\\input \n",
      " I:\\project_OO\\data\\output\n"
     ]
    }
   ],
   "source": [
    "# Join path\n",
    "path_input = os.path.join(os.getcwd(), \"data\", \"input\")\n",
    "path_output = os.path.join(os.getcwd(), \"data\", \"output\")\n",
    "print(path_input, '\\n', path_output)"
   ]
  },
  {
   "cell_type": "markdown",
   "metadata": {},
   "source": [
    "In this case, the current working directory `os.getcwd()` and the directory `input` are joined / combined to generate a new path called `path_input`.\n",
    "\n",
    "***Note: when `os.path.join()` is run, it will adapt to the operating system.***\n",
    "\n",
    "To ***check if the path exists***, we do:"
   ]
  },
  {
   "cell_type": "code",
   "execution_count": 10,
   "metadata": {},
   "outputs": [
    {
     "data": {
      "text/plain": [
       "True"
      ]
     },
     "execution_count": 10,
     "metadata": {},
     "output_type": "execute_result"
    }
   ],
   "source": [
    "# Check if the path 'path_input' exists\n",
    "os.path.exists(path_input)"
   ]
  },
  {
   "cell_type": "code",
   "execution_count": 11,
   "metadata": {},
   "outputs": [
    {
     "data": {
      "text/plain": [
       "False"
      ]
     },
     "execution_count": 11,
     "metadata": {},
     "output_type": "execute_result"
    }
   ],
   "source": [
    "# Check if the path 'path_output' exists\n",
    "os.path.exists(path_output)"
   ]
  },
  {
   "cell_type": "markdown",
   "metadata": {},
   "source": [
    "If it returns `False`, then we could ***create the directory*** using:"
   ]
  },
  {
   "cell_type": "code",
   "execution_count": 12,
   "metadata": {},
   "outputs": [
    {
     "data": {
      "text/plain": [
       "True"
      ]
     },
     "execution_count": 12,
     "metadata": {},
     "output_type": "execute_result"
    }
   ],
   "source": [
    "# Create new directory\n",
    "os.mkdir(path_output)\n",
    "# Check again if the 'path_output' exists\n",
    "os.path.exists(path_output)"
   ]
  },
  {
   "cell_type": "markdown",
   "metadata": {},
   "source": [
    "## Package \"glob\"\n",
    "\n",
    "***glob*** is a powerful tool to help with filtering through large datasets and pulling out only files of interest."
   ]
  },
  {
   "cell_type": "code",
   "execution_count": 17,
   "metadata": {},
   "outputs": [],
   "source": [
    "from glob import glob"
   ]
  },
  {
   "cell_type": "markdown",
   "metadata": {},
   "source": [
    "### Find all files in a directory"
   ]
  },
  {
   "cell_type": "code",
   "execution_count": 34,
   "metadata": {},
   "outputs": [
    {
     "data": {
      "text/plain": [
       "['I:\\\\project_OO\\\\data\\\\input\\\\raster\\\\vessel_003.tif',\n",
       " 'I:\\\\project_OO\\\\data\\\\input\\\\raster\\\\net_001.tif',\n",
       " 'I:\\\\project_OO\\\\data\\\\input\\\\raster\\\\net_011.tif',\n",
       " 'I:\\\\project_OO\\\\data\\\\input\\\\raster\\\\net_112.tif',\n",
       " 'I:\\\\project_OO\\\\data\\\\input\\\\raster\\\\vessel_001.tif',\n",
       " 'I:\\\\project_OO\\\\data\\\\input\\\\raster\\\\vessel_002.tif']"
      ]
     },
     "execution_count": 34,
     "metadata": {},
     "output_type": "execute_result"
    }
   ],
   "source": [
    "# Find files in directory \"path_input/raster\"\n",
    "glob(os.path.join(path_input, 'raster', '*'))"
   ]
  },
  {
   "cell_type": "code",
   "execution_count": 35,
   "metadata": {},
   "outputs": [
    {
     "data": {
      "text/plain": [
       "['I:\\\\project_OO\\\\data\\\\input\\\\vector\\\\basin.geojson',\n",
       " 'I:\\\\project_OO\\\\data\\\\input\\\\vector\\\\basin_prj.dbf',\n",
       " 'I:\\\\project_OO\\\\data\\\\input\\\\vector\\\\basin_prj.cpg',\n",
       " 'I:\\\\project_OO\\\\data\\\\input\\\\vector\\\\basin_prj.prj',\n",
       " 'I:\\\\project_OO\\\\data\\\\input\\\\vector\\\\basin_prj.shp',\n",
       " 'I:\\\\project_OO\\\\data\\\\input\\\\vector\\\\basin_prj.shx']"
      ]
     },
     "execution_count": 35,
     "metadata": {},
     "output_type": "execute_result"
    }
   ],
   "source": [
    "# Find all files in directory \"path_input/vector\"\n",
    "glob(os.path.join(path_input, 'vector', '*'))"
   ]
  },
  {
   "cell_type": "markdown",
   "metadata": {},
   "source": [
    "***Tip: using multiple ` * ` to find all subdirectories and their contents.***"
   ]
  },
  {
   "cell_type": "code",
   "execution_count": 36,
   "metadata": {},
   "outputs": [
    {
     "data": {
      "text/plain": [
       "['I:\\\\project_OO\\\\data\\\\input\\\\raster\\\\vessel_003.tif',\n",
       " 'I:\\\\project_OO\\\\data\\\\input\\\\raster\\\\net_001.tif',\n",
       " 'I:\\\\project_OO\\\\data\\\\input\\\\raster\\\\net_011.tif',\n",
       " 'I:\\\\project_OO\\\\data\\\\input\\\\raster\\\\net_112.tif',\n",
       " 'I:\\\\project_OO\\\\data\\\\input\\\\raster\\\\vessel_001.tif',\n",
       " 'I:\\\\project_OO\\\\data\\\\input\\\\raster\\\\vessel_002.tif',\n",
       " 'I:\\\\project_OO\\\\data\\\\input\\\\vector\\\\basin.geojson',\n",
       " 'I:\\\\project_OO\\\\data\\\\input\\\\vector\\\\basin_prj.dbf',\n",
       " 'I:\\\\project_OO\\\\data\\\\input\\\\vector\\\\basin_prj.cpg',\n",
       " 'I:\\\\project_OO\\\\data\\\\input\\\\vector\\\\basin_prj.prj',\n",
       " 'I:\\\\project_OO\\\\data\\\\input\\\\vector\\\\basin_prj.shp',\n",
       " 'I:\\\\project_OO\\\\data\\\\input\\\\vector\\\\basin_prj.shx']"
      ]
     },
     "execution_count": 36,
     "metadata": {},
     "output_type": "execute_result"
    }
   ],
   "source": [
    "# Find all files under \"path_input\"\n",
    "glob(os.path.join(path_input, '*', '*'))"
   ]
  },
  {
   "cell_type": "markdown",
   "metadata": {},
   "source": [
    "### Find files based on a filter condition"
   ]
  },
  {
   "cell_type": "code",
   "execution_count": 37,
   "metadata": {},
   "outputs": [
    {
     "data": {
      "text/plain": [
       "['I:\\\\project_OO\\\\data\\\\input\\\\vector\\\\basin_prj.shp']"
      ]
     },
     "execution_count": 37,
     "metadata": {},
     "output_type": "execute_result"
    }
   ],
   "source": [
    "# Find only .shp file\n",
    "glob(os.path.join(path_input, 'vector', '*.shp'))"
   ]
  },
  {
   "cell_type": "code",
   "execution_count": 38,
   "metadata": {},
   "outputs": [
    {
     "data": {
      "text/plain": [
       "['I:\\\\project_OO\\\\data\\\\input\\\\raster\\\\vessel_003.tif',\n",
       " 'I:\\\\project_OO\\\\data\\\\input\\\\raster\\\\vessel_001.tif',\n",
       " 'I:\\\\project_OO\\\\data\\\\input\\\\raster\\\\vessel_002.tif']"
      ]
     },
     "execution_count": 38,
     "metadata": {},
     "output_type": "execute_result"
    }
   ],
   "source": [
    "# Find all raster files where the filename begins with 'vessel'\n",
    "glob(os.path.join(path_input, 'raster', 'vessel*'))"
   ]
  },
  {
   "cell_type": "code",
   "execution_count": 39,
   "metadata": {
    "scrolled": true
   },
   "outputs": [
    {
     "data": {
      "text/plain": [
       "['I:\\\\project_OO\\\\data\\\\input\\\\raster\\\\net_112.tif',\n",
       " 'I:\\\\project_OO\\\\data\\\\input\\\\raster\\\\vessel_002.tif']"
      ]
     },
     "execution_count": 39,
     "metadata": {},
     "output_type": "execute_result"
    }
   ],
   "source": [
    "# Find all raster files with '2' somewhere in the filename\n",
    "glob(os.path.join(path_input, 'raster', '*2*'))"
   ]
  },
  {
   "cell_type": "markdown",
   "metadata": {},
   "source": [
    "***Tip: Filter using Ranges.***"
   ]
  },
  {
   "cell_type": "code",
   "execution_count": 41,
   "metadata": {},
   "outputs": [
    {
     "data": {
      "text/plain": [
       "['I:\\\\project_OO\\\\data\\\\input\\\\raster\\\\vessel_003.tif',\n",
       " 'I:\\\\project_OO\\\\data\\\\input\\\\raster\\\\net_112.tif',\n",
       " 'I:\\\\project_OO\\\\data\\\\input\\\\raster\\\\vessel_002.tif']"
      ]
     },
     "execution_count": 41,
     "metadata": {},
     "output_type": "execute_result"
    }
   ],
   "source": [
    "# Find all raster files having '2' or '3' in filenames\n",
    "glob(os.path.join(path_input, 'raster', '*[2-3]*'))"
   ]
  },
  {
   "cell_type": "markdown",
   "metadata": {},
   "source": [
    "***Tip: Filter using `?` operater to replace characters.***"
   ]
  },
  {
   "cell_type": "code",
   "execution_count": 43,
   "metadata": {},
   "outputs": [
    {
     "data": {
      "text/plain": [
       "['I:\\\\project_OO\\\\data\\\\input\\\\raster\\\\net_011.tif',\n",
       " 'I:\\\\project_OO\\\\data\\\\input\\\\raster\\\\net_112.tif']"
      ]
     },
     "execution_count": 43,
     "metadata": {},
     "output_type": "execute_result"
    }
   ],
   "source": [
    "# Find all raster files that are numbered with '1' at tenth place\n",
    "glob(os.path.join(path_input, 'raster', '*_?1?*'))"
   ]
  },
  {
   "cell_type": "markdown",
   "metadata": {},
   "source": [
    "### Sort glob List\n",
    "\n",
    "The lists returned by `glob` is unsorted, so let's sort it!"
   ]
  },
  {
   "cell_type": "code",
   "execution_count": 45,
   "metadata": {},
   "outputs": [
    {
     "data": {
      "text/plain": [
       "['I:\\\\project_OO\\\\data\\\\input\\\\raster\\\\vessel_003.tif',\n",
       " 'I:\\\\project_OO\\\\data\\\\input\\\\raster\\\\net_001.tif',\n",
       " 'I:\\\\project_OO\\\\data\\\\input\\\\raster\\\\net_011.tif',\n",
       " 'I:\\\\project_OO\\\\data\\\\input\\\\raster\\\\net_112.tif',\n",
       " 'I:\\\\project_OO\\\\data\\\\input\\\\raster\\\\vessel_001.tif',\n",
       " 'I:\\\\project_OO\\\\data\\\\input\\\\raster\\\\vessel_002.tif']"
      ]
     },
     "execution_count": 45,
     "metadata": {},
     "output_type": "execute_result"
    }
   ],
   "source": [
    "rasters = glob(os.path.join(path_input, 'raster', '*'))\n",
    "rasters"
   ]
  },
  {
   "cell_type": "code",
   "execution_count": 47,
   "metadata": {},
   "outputs": [
    {
     "data": {
      "text/plain": [
       "['I:\\\\project_OO\\\\data\\\\input\\\\raster\\\\net_001.tif',\n",
       " 'I:\\\\project_OO\\\\data\\\\input\\\\raster\\\\net_011.tif',\n",
       " 'I:\\\\project_OO\\\\data\\\\input\\\\raster\\\\net_112.tif',\n",
       " 'I:\\\\project_OO\\\\data\\\\input\\\\raster\\\\vessel_001.tif',\n",
       " 'I:\\\\project_OO\\\\data\\\\input\\\\raster\\\\vessel_002.tif',\n",
       " 'I:\\\\project_OO\\\\data\\\\input\\\\raster\\\\vessel_003.tif']"
      ]
     },
     "execution_count": 47,
     "metadata": {},
     "output_type": "execute_result"
    }
   ],
   "source": [
    "rasters.sort()\n",
    "rasters"
   ]
  },
  {
   "cell_type": "markdown",
   "metadata": {},
   "source": [
    "## Other \"os\" / \"glob\" functionality"
   ]
  },
  {
   "cell_type": "markdown",
   "metadata": {},
   "source": [
    "**`os.path.commonpath()`**, when combined with `glob`, returns the lowest directory the files in the list have in common."
   ]
  },
  {
   "cell_type": "code",
   "execution_count": 49,
   "metadata": {},
   "outputs": [
    {
     "data": {
      "text/plain": [
       "'I:\\\\project_OO\\\\data\\\\input'"
      ]
     },
     "execution_count": 49,
     "metadata": {},
     "output_type": "execute_result"
    }
   ],
   "source": [
    "# The lowest directoy all out input data have in common is:\n",
    "inputData = glob(os.path.join(path_input, \"*\", \"*\"))\n",
    "os.path.commonpath(inputData)"
   ]
  },
  {
   "cell_type": "markdown",
   "metadata": {},
   "source": [
    "**`os.path.basename()`** returns the last section of the path."
   ]
  },
  {
   "cell_type": "code",
   "execution_count": 51,
   "metadata": {},
   "outputs": [
    {
     "data": {
      "text/plain": [
       "'input'"
      ]
     },
     "execution_count": 51,
     "metadata": {},
     "output_type": "execute_result"
    }
   ],
   "source": [
    "os.path.basename(path_input)"
   ]
  },
  {
   "cell_type": "markdown",
   "metadata": {},
   "source": [
    "**`os.path.split()`** returns the ***last section*** and the ***rest parts*** of a path where each part can be ***indexed***."
   ]
  },
  {
   "cell_type": "code",
   "execution_count": 55,
   "metadata": {},
   "outputs": [
    {
     "name": "stdout",
     "output_type": "stream",
     "text": [
      "('I:\\\\project_OO\\\\data', 'input') \n",
      "\n",
      "I:\\project_OO\\data \n",
      "\n",
      "input\n"
     ]
    }
   ],
   "source": [
    "print(os.path.split(path_input), '\\n')\n",
    "print(os.path.split(path_input)[0], '\\n')\n",
    "print(os.path.split(path_input)[1])"
   ]
  },
  {
   "cell_type": "markdown",
   "metadata": {},
   "source": [
    "Using python built-in function **`.split()`**, we could split a path into base pieces."
   ]
  },
  {
   "cell_type": "code",
   "execution_count": 62,
   "metadata": {},
   "outputs": [
    {
     "name": "stdout",
     "output_type": "stream",
     "text": [
      "['I:', 'project_OO', 'data', 'input']\n"
     ]
    }
   ],
   "source": [
    "print(path_input.split('\\\\'))"
   ]
  }
 ],
 "metadata": {
  "kernelspec": {
   "display_name": "Python 3 (Spyder)",
   "language": "python3",
   "name": "python3"
  },
  "language_info": {
   "codemirror_mode": {
    "name": "ipython",
    "version": 3
   },
   "file_extension": ".py",
   "mimetype": "text/x-python",
   "name": "python",
   "nbconvert_exporter": "python",
   "pygments_lexer": "ipython3",
   "version": "3.7.8"
  }
 },
 "nbformat": 4,
 "nbformat_minor": 4
}
