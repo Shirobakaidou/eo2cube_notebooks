{
 "cells": [
  {
   "cell_type": "markdown",
   "metadata": {},
   "source": [
    "<img align=\"right\" src=\"../../additional_data/notebook_banner_siegel.png\" style=\"width:1100px;\">"
   ]
  },
  {
   "cell_type": "markdown",
   "metadata": {},
   "source": [
    "# Introduction to Jupyter notebooks \n",
    "\n",
    "* [**Sign up to the JupyterHub**](https://www.phenocube.org/) to run this notebook interactively from your browser\n",
    "* **Compatibility:** Notebook currently compatible with the Open Data Cube environments of the University of Wuerzburg\n",
    "* **Prerequisites**: There is no prerequisite learning required.\n"
   ]
  },
  {
   "cell_type": "markdown",
   "metadata": {},
   "source": [
    "## Background\n",
    "Access to implementations of the [Open Data Cube](https://www.opendatacube.org/) such as [Digital Earth Australia](https://www.ga.gov.au/dea) and [Bavarian Data Cube](https://www.phenocube.org/) is achieved through the use of Python code and [Jupyter Notebooks](https://jupyterlab.readthedocs.io/en/stable/user/notebook.html).\n",
    "The Jupyter Notebook is an interactive web application that allows viewing, creation and documentation of live code.Notebook applications include data transformation, visualisation, modelling and machine learning.\n",
    "\n"
   ]
  },
  {
   "cell_type": "markdown",
   "metadata": {},
   "source": [
    "## **What is Jupyter?**\n",
    "\n",
    "The **`Jupyter Project`** is an open source effort that evolved from the IPython project to support interactive data science and  computing. Besides `Python`, it also supports many different programming languages including `R` and `Julia`. *If you're familiar with the `R` programming language, Jupyter Notebook can be compared to R Markdown*.\n",
    "\n",
    "*You can write and run Python code in interactive development environments such as **`Jypyter Notebook`**.*\n",
    "<br>\n",
    "*Python code can be organized and run using cells in Jupyter Notebook and the output is displayed under the executed cells*\n",
    "\n",
    "Jupyter is an open source platform that contains a suite of tools including:\n",
    "\n",
    "* <font color='orange'>**Jupyter Notebook**</font>: A browser-based application that allows users to create and share documents (i.e. Jupyter Notebook files `.ipynb`) that contain live code, equations, visualizations and narrative text. \n",
    "\n",
    "* **JupyterLab**: A browser-based application that allows you to access multiple Jupyter Notebook files as well as other code and data files.\n",
    "    \n",
    "* **Jupyter Hub**: A multi-person version of Jupyter Notebook and Lab that can be run on a server."
   ]
  },
  {
   "cell_type": "markdown",
   "metadata": {},
   "source": [
    "## **How to launch Jupyter Notebook?**"
   ]
  },
  {
   "cell_type": "markdown",
   "metadata": {},
   "source": [
    "## **Components of <font color='orange'>Jupyter Notebook</font>**\n",
    "\n",
    "1. ***Jupyter Notebook IDE***: The application that launches in a web browser like Firefox or Safari and is the environment where you write and run your code.\n",
    "\n",
    "2. <font color='blue'>***Jupyter Notebook Files***</font>(`.ipynb`): The file format that you can use to store code and markdown text for individual projects and workflows.\n",
    "\n",
    "3. ***Kernels***: A kernel runs your code in a specific programming language. In this tutorial, Python kernel is used within the Jupyter Notebook IDE."
   ]
  },
  {
   "cell_type": "markdown",
   "metadata": {},
   "source": [
    "## **Structure of <font color='blue'>Jupyter Notebook Files</font>**\n",
    "\n",
    "* ***Menu bar***\n",
    "* ***Toolbar***\n",
    "* <font color='green'>***Cells***</font>"
   ]
  },
  {
   "cell_type": "markdown",
   "metadata": {},
   "source": [
    "## **<font color='green'>Markdown & Code Cells</font> in Jupyter Notebook**\n",
    "\n",
    "<font color='brown'>**Function**</font> | <font color='brown'>**Keyboard Shortcut**</font> | <font color='brown'>**Menu/Tool Bar**</font>\n",
    ":------ |:----------|:--------\n",
    "**Create new Cell** | `esc`+`a`(insert new cell above); `esc`+`b`(insert new cell below) | Insert -> Insert Cell Above; Insert -> Insert Cell Below\n",
    "**Copy Cell** | `c` | Copy Key in Toolbar\n",
    "**Paste Cell** | `v` | Paste Key in Toolbar\n",
    "**Edit Cell** | `Enter` | \n",
    "**Run Cell** | `ctrl`+`enter` | Cell -> Run Cell\n",
    "**Switch to Markdown Cell** | `esc`+`m` | Select 'Markdown' in Toolbar\n",
    "**Switch to Code Cell** | `esc`+`y` | Select 'Code' in Toobar\n",
    "**Delete Cell** | double hit `d` | Edit -> Delete Cells\n",
    "\n"
   ]
  },
  {
   "cell_type": "markdown",
   "metadata": {},
   "source": [
    "### <font color='green'>***Markdown Cells***</font>\n",
    "\n",
    "When you run a Markdown Cell, the texts will be rendered as stylized texts depending on the ***Markdown syntax*** used.\n",
    "\n"
   ]
  },
  {
   "cell_type": "markdown",
   "metadata": {},
   "source": [
    "### ***1. Headers***\n",
    "\n",
    "\n",
    "`# This is a Title in Markdown`\n",
    "<br>\n",
    "`## This is a Subtitle in Markdown`\n",
    "<br>\n",
    "`### This is a smaller subtitle in Markdown`\n",
    "\n",
    "<br> will be rendered as\n",
    "\n",
    "\n",
    "# This is a Title in Markdown\n",
    "## This is a Subtitle in Markdown\n",
    "### This is a smaller subtitle in Markdown\n",
    "<br>\n",
    "\n",
    "<font color='brown'>*Note: The more `#` the title holds, the smaller the title will be*</font>"
   ]
  },
  {
   "cell_type": "markdown",
   "metadata": {},
   "source": [
    "### ***2. Lists***\n",
    "\n",
    "` * This is a bullet list` <br>\n",
    "` * This is a bullet list` <br>\n",
    "` * This is a bullet list`\n",
    "\n",
    "` 1. This is a numbered list` <br>\n",
    "` 2. Tihs is a numbered list` <br>\n",
    "` 3. This is a numbered list`\n",
    "\n",
    "will be rendered as\n",
    "\n",
    "\n",
    "* This is a bullet list\n",
    "* This is a bullet list\n",
    "* This is a bullet list\n",
    "\n",
    "1. This is a numbered list\n",
    "2. This is a numbered list\n",
    "3. This is a numbered list\n",
    "\n",
    "\n",
    "<font color='brown'>*Tip: To render list, you should leave a **space** between `*`/`1.` and the following texts.*</font>"
   ]
  },
  {
   "cell_type": "markdown",
   "metadata": {},
   "source": [
    "### ***3. Bold and Italic***\n",
    "\n",
    "`*These are italic words.*` <br>\n",
    "`**These are bold words.**` <br>\n",
    "`***These are bold AND italic words.***`\n",
    "\n",
    "will be rendered as \n",
    "\n",
    "\n",
    "*These are italic words.* <br>\n",
    "**These are bold words.** <br>\n",
    "***These are bold AND italic words.***\n",
    "\n",
    "\n",
    "<br>\n",
    "\n",
    "`* *This is a bullet item with italic words*` <br>\n",
    "`* **This is a bullet item with bold words**` <br>\n",
    "`* ***This is a bullet item with bold and italic words***`\n",
    "\n",
    "will be rendered as\n",
    "\n",
    "\n",
    "* *This is a bullet item with italic words*\n",
    "* **This is a bullet item with bold words**\n",
    "* ***This is a bullet item with bold and italic words***\n",
    "\n",
    "\n",
    "<font color='brown'>*Tip: you could use `<br>` to start a new line of texts if needed.*</font>"
   ]
  },
  {
   "cell_type": "markdown",
   "metadata": {},
   "source": [
    "### ***4. Highlight Code***\n",
    "\n",
    "If you want to highlight a funciton or some code in a plain text, you add ***one backtick on each side*** of the text ![one backtick](https://i.stack.imgur.com/nLnJN.png)\n",
    "<br>\n",
    "Then you'll get the text rendered like: <br>\n",
    "\n",
    "`Here is some code!`"
   ]
  },
  {
   "cell_type": "markdown",
   "metadata": {},
   "source": [
    "### ***5. Horizontal Lines***\n",
    "\n",
    "You can also create a horizontal line to highlight a block of markdown syntax\n",
    "\n",
    "`***`<br>\n",
    "`Here is some important text!`<br>\n",
    "`***`\n",
    "\n",
    "will be rendered like\n",
    "\n",
    "***\n",
    "Here is some important text!\n",
    "***\n",
    "\n",
    "<font color='brown'>*Tip: The `***` on both side of the texts should be at the line above and the line below the texts.*</font>"
   ]
  },
  {
   "cell_type": "markdown",
   "metadata": {},
   "source": [
    "### ***6. Hyperlinks***\n",
    "\n",
    "You can use **HTML** in Markdown cells to create hyperlinks redirecting to other websites. For example, the following syntax <br>\n",
    "\n",
    "`More infos about our data cube program can be found at  <a href=\"https://datacube.remote-sensing.org/\">this website</a>` <br>\n",
    "\n",
    "will be rendered as: <br>\n",
    "\n",
    "More infos about our data cube program can be found at  <a href=\"https://datacube.remote-sensing.org/\">this website</a>"
   ]
  },
  {
   "cell_type": "markdown",
   "metadata": {},
   "source": [
    "### ***7. Images***\n",
    "\n",
    "You can also render images in Markdown cells using the following syntax:\n",
    "\n",
    "`![alternative text here](url-to-image-here)`\n",
    "\n",
    "For example, \n",
    "\n",
    "`![Fotograph of Philip is here](https://i.imgur.com/VGPeJ6s.jpg)`\n",
    "\n",
    "will be redered like:\n",
    "\n",
    "![Fotograph of Philip is here](https://i.imgur.com/VGPeJ6s.jpg)\n",
    "\n",
    "<font color='brown'>*Note: The texts in the **rectangle brackets** (e.g. \"Fotograph of Philip is here\") will appear when the image fails to load.*</font>"
   ]
  },
  {
   "cell_type": "markdown",
   "metadata": {},
   "source": [
    "## Recommended next steps\n",
    "\n",
    "For more advanced information about working with Jupyter Notebooks or JupyterLab, see the [JupyterLab documentation](https://jupyterlab.readthedocs.io/en/stable/user/notebook.html).\n",
    "\n",
    "To continue working through the notebooks in this beginner's guide, the following notebooks are designed to be worked through in the following order:\n",
    "\n",
    "1. **Jupyter Notebooks (this notebook)**\n",
    "2. [eo2cube](02_eo2cube.ipynb)\n",
    "3. [Products and Measurements](03_products_and_measurements.ipynb)\n",
    "4. [Loading data and introduction to xarrays](04_loading_data_and_basic_xarray.ipynb)\n",
    "5. [Advanced xarrays operations](05_advanced_xarray.ipynb)\n",
    "6. [Plotting data](06_plotting.ipynb)\n",
    "7. [Basic analysis of remote sensing data](07_basic_analysis.ipynb)\n",
    "8. [Parallel processing with Dask](08_parallel_processing_with_dask.ipynb)\n",
    "\n",
    "Once you have worked through the beginner's guide, you can join advanced users by exploring:\n",
    "\n",
    "* The \"DEA datasets\" directory in the repository, where you can explore DEA products in depth.\n",
    "* The \"Frequently used code\" directory, which contains a recipe book of common techniques and methods for analysing DEA data.\n",
    "* The \"Real-world examples\" directory, which provides more complex workflows and analysis case studies."
   ]
  },
  {
   "cell_type": "markdown",
   "metadata": {},
   "source": [
    "***\n",
    "## Additional information\n",
    "\n",
    "This notebook for the usage of Jupyter Notebook of the [Department of Remote Sensing](http://remote-sensing.org/), [University of Wuerzburg](https://www.uni-wuerzburg.de/startseite/), is partly adapted from [Earth Lab](https://www.earthdatascience.org/courses/intro-to-earth-data-science/), published using the CC BY-NC-ND License 4.0. Thanks!\n",
    "\n",
    "**License:** The code in this notebook is licensed under the [Apache License, Version 2.0](https://www.apache.org/licenses/LICENSE-2.0). \n",
    "\n",
    "\n",
    "**Contact:** If you would like to report an issue with this notebook, you can file one on [Github](https://github.com).\n",
    "\n",
    "**Last modified:** February 2021"
   ]
  },
  {
   "cell_type": "code",
   "execution_count": null,
   "metadata": {},
   "outputs": [],
   "source": []
  }
 ],
 "metadata": {
  "kernelspec": {
   "display_name": "Python 3",
   "language": "python",
   "name": "python3"
  },
  "language_info": {
   "codemirror_mode": {
    "name": "ipython",
    "version": 3
   },
   "file_extension": ".py",
   "mimetype": "text/x-python",
   "name": "python",
   "nbconvert_exporter": "python",
   "pygments_lexer": "ipython3",
   "version": "3.9.1"
  },
  "widgets": {
   "application/vnd.jupyter.widget-state+json": {
    "state": {},
    "version_major": 2,
    "version_minor": 0
   }
  }
 },
 "nbformat": 4,
 "nbformat_minor": 4
}
