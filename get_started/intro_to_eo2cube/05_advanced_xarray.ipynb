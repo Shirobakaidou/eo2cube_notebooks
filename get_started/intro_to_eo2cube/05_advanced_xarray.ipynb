{
 "cells": [
  {
   "cell_type": "markdown",
   "metadata": {},
   "source": [
    "<img align=\"right\" src=\"../../additional_data/banner_siegel.png\" style=\"width:1100px;\">"
   ]
  },
  {
   "cell_type": "markdown",
   "metadata": {},
   "source": [
    "# Advanced xArray\n",
    "\n",
    "* [**Sign up to the JupyterHub**](https://www.phenocube.org/) to run this notebook interactively from your browser\n",
    "* **Compatibility:** Notebook currently compatible with the Open Data Cube environments of the University of Wuerzburg\n",
    "* **Products used**: \n",
    "* **Prerequisites**:  Users of this notebook should have a basic understanding of:\n",
    "    * How to run a [Jupyter notebook](01_jupyter_introduction.ipynb)\n",
    "    * The basic structure of the eo2cube [satellite datasets](02_eo2cube.ipynb)\n",
    "    * How to browse through the available [products and measurements](03_products_and_measurements.ipynb) of the eo2cube datacube \n",
    "    * How to [load data from the eo2cube datacube](04_loading_data_and_basic_xarray.ipynb) "
   ]
  },
  {
   "cell_type": "markdown",
   "metadata": {},
   "source": [
    "## Background\n",
    "\n",
    "The Python library `xarray` simplifies working with labelled multi-dimension arrays. The library introduces labels in the forms of dimensions, coordinates and attributes on top of `numpy` arrays. This structure allows easier and more effective handling of remote sensing raster data in a Python environment. Therefore, it is essential to fully understand the structure of an `xarray`. A first introduction into the usage of `xarray` within the eo2cube environment was given in [\"04_loading_data_and_basic_xarray\"](04_loading_data_and_basic_xarray.ipynb). This notebook builds on this gained knowledge and attempts to give a deeper understanding of the `xarray` data structure of raster data. Since the `xarray.Dataset` within the datacube environment is specialised for the use of remote sensing raster data, it differs slightly from the original `xarray` library. However, if you are interested in learning more about the basic structures of the original `xarray`, have a look at this [**\"introduction to xarray\" notebook**](intro_to_xarray.ipynb) within the \"intro_to_python\" directory.\n",
    "To get more information about the `xarray` package, visit the [offical documentation website](http://xarray.pydata.org/en/stable/).\n",
    "\n",
    "## Description\n",
    "\n",
    "This notebook introduces users to the `xarray` library within the datacube environment. It aims to deepen the understanding of the `xarray` structure as a container for remote sensing raster data. Also it introduces useful `xarray` functions to effectivly work with raster data in the eo2cube environment. Within this notebook the following topics are covered:\n",
    "\n",
    "* Definition of the `xarray.Dataset` structure for eo2cube remote sensing data\n",
    "* Access of `xarray.Dataset` dimensions, measurements and metadata\n",
    "* Indexing and slicing of `xarray.Dataset`\n",
    "* Application of built-in `xarray` functions for analyzing raster data\n",
    "\n",
    "***"
   ]
  },
  {
   "cell_type": "markdown",
   "metadata": {},
   "source": [
    "## Load packages\n",
    "\n",
    "The `datacube` package is required to query the eo2cube datacube database and load the requested data. The `with_ui_cbk` function from `odc.ui` enables a progress bar when loading large amounts of data"
   ]
  },
  {
   "cell_type": "markdown",
   "metadata": {},
   "source": [
    "## Recommended next steps\n",
    "\n",
    "To continue with the beginner's guide, the following notebooks are designed to be worked through in the following order:\n",
    "\n",
    "1. [Jupyter Notebooks](01_jupyter_introduction.ipynb)\n",
    "2. [eo2cube](02_eo2cube.ipynb)\n",
    "3. [Products and Measurements](03_products_and_measurements.ipynb)\n",
    "4. [Loading data and introduction to xarrays](04_loading_data_and_basic_xarray.ipynb)\n",
    "5. **Advanced xarrays operations (this notebook)**\n",
    "6. [Plotting data](06_plotting.ipynb)\n",
    "7. [Basic analysis of remote sensing data](07_basic_analysis.ipynb)\n",
    "8. [Parallel processing with Dask](08_parallel_processing_with_dask.ipynb)"
   ]
  },
  {
   "cell_type": "markdown",
   "metadata": {},
   "source": [
    "***\n",
    "\n",
    "## Additional information\n",
    "\n",
    "<font size=\"2\">This notebook for the usage in the Open Data Cube entities of the [Department of Remote Sensing](http://remote-sensing.org/), [University of Wuerzburg](https://www.uni-wuerzburg.de/startseite/), is adapted from [Geoscience Australia](https://github.com/GeoscienceAustralia/dea-notebooks), published using the Apache License, Version 2.0. Thanks! </font>\n",
    "\n",
    "**License:** The code in this notebook is licensed under the [Apache License, Version 2.0](https://www.apache.org/licenses/LICENSE-2.0). \n",
    "Digital Earth Australia data is licensed under the [Creative Commons by Attribution 4.0](https://creativecommons.org/licenses/by/4.0/) license.\n",
    "\n",
    "\n",
    "**Contact:** If you would like to report an issue with this notebook, you can file one on [Github](https://github.com).\n",
    "\n",
    "**Last modified:** February 2021"
   ]
  }
 ],
 "metadata": {
  "kernelspec": {
   "display_name": "Python 3",
   "language": "python",
   "name": "python3"
  },
  "language_info": {
   "codemirror_mode": {
    "name": "ipython",
    "version": 3
   },
   "file_extension": ".py",
   "mimetype": "text/x-python",
   "name": "python",
   "nbconvert_exporter": "python",
   "pygments_lexer": "ipython3",
   "version": "3.9.1"
  }
 },
 "nbformat": 4,
 "nbformat_minor": 4
}
