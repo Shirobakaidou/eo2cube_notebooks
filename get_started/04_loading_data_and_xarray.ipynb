{
 "cells": [
  {
   "cell_type": "markdown",
   "metadata": {},
   "source": [
    "# <img align=\"right\" src=\"../additional_data/banner.png\" style=\"width:1100px;\">"
   ]
  },
  {
   "cell_type": "markdown",
   "metadata": {},
   "source": [
    "# Introduction to loading data\n",
    "\n",
    "* [**Sign up to the JupyterHub**](https://www.phenocube.org/) to run this notebook interactively from your browser\n",
    "* **Compatibility:** Notebook currently compatible with the Open Data Cube environments of the University of Wuerzburg\n",
    "* **Products used**: s2_l2a_bavaria\n",
    "* **Prerequisites**:  Users of this notebook should have a basic understanding of:\n",
    "    * How to run a [Jupyter notebook](01_jupyter_introduction.ipynb)\n",
    "    * The basic structure of the eo2cube [satellite datasets](02_eo2cube.ipynb)\n",
    "    * How to browse through the available [products and measurements](03_products_and_measurements.ipynb) of the eo2cube datacube "
   ]
  },
  {
   "cell_type": "markdown",
   "metadata": {},
   "source": [
    "## Background\n",
    "\n",
    "Loading data from the eo2cube requires a data query command that specifies what kind of data (what) and for which area of interest (AOI) (where) and time (when) the specified data should be loaded. Each loading query returns a multi-dimensional `xarray` object containing the contents of your query.\n",
    "For the work with the data in eo2cube environment, it is essential to understand the `xarray` data structures as they are fundamental to the structure of the stored and loaded data. Any kind of further geospatial analysis builds on this `xarray` structur.\n",
    "\n",
    "## Description\n",
    "\n",
    "This notebook demonstrates how to load data from the eo2cube datacube by using the `dc.load()` function. It also includes the construction of a query to define the data according to desired parameters. Topics covered include:\n",
    "\n",
    "* Loading data with the `dc.load()`function\n",
    "* Interpretation of the resulting `xarray.Dataset` object\n",
    "* Customising the `dc.load()`query\n",
    "* Tips and tricks to simplify the data loading process\n",
    "\n",
    "***"
   ]
  },
  {
   "cell_type": "markdown",
   "metadata": {},
   "source": [
    "## Load packages\n",
    "\n",
    "The `datacube` package is required to query the eo2cube datacube database and load the requested data. The `with_ui_cbk` function from `odc.ui` enables a progress bar when loading large amounts of data"
   ]
  },
  {
   "cell_type": "code",
   "execution_count": 1,
   "metadata": {},
   "outputs": [],
   "source": [
    "import datacube\n",
    "from odc.ui import with_ui_cbk"
   ]
  },
  {
   "cell_type": "markdown",
   "metadata": {},
   "source": [
    "## Connection to the datacube\n",
    "\n",
    "The usual first step is to connect the script with the datacube. As described in the script about [products and measurements](03_products_and_measurements.ipynb) an app name needs to be defined. In this case it is going to be *'04_loading_data_and_xarray'*. Also the standard configuration file needs to be defined."
   ]
  },
  {
   "cell_type": "code",
   "execution_count": 2,
   "metadata": {},
   "outputs": [],
   "source": [
    "dc = datacube.Datacube(app = '04_loading_data_and_xarray', config = '/home/datacube/.datacube.conf')"
   ]
  },
  {
   "cell_type": "markdown",
   "metadata": {},
   "source": [
    "## Loading data with the `dc.load()`function\n",
    "\n",
    "Loading data from the datacube uses the `dc.load()` function.\n",
    "\n",
    "The function requires the following minimum arguments:\n",
    "\n",
    "* product: The data product to load (to see all available eo2cube products, see the [Products and measurements notebook](03_products_and_measurements.ipynb)).\n",
    "* x: The spatial region in the x dimension. By default, the x and y arguments accept queries in a geographical co-ordinate system WGS84, identified by the EPSG code 4326.\n",
    "* y: The spatial region in the y dimension. The dimensions longitude/latitude and x/y can be used interchangeably. It is also possible to use the extent of an imported shapefile as x/y (see the [notebook for working with vectordata](XX_vectordata.ipynb)).\n",
    "* time: The temporal extent. The time dimension can be specified using a tuple of datetime objects or strings in the “YYYY”, “YYYY-MM” or “YYYY-MM-DD” format.\n",
    "\n",
    "This example loads all Sentinel-2 data from April 2020 for an area around Würzburg. The used product is defined by its name. The spatial extent is defined by lat/lon coordinates. The time intervall ist defined by the format \"YYYY-MM-DD\"."
   ]
  },
  {
   "cell_type": "code",
   "execution_count": 9,
   "metadata": {},
   "outputs": [
    {
     "name": "stdout",
     "output_type": "stream",
     "text": [
      "<xarray.Dataset>\n",
      "Dimensions:          (time: 12, x: 1477, y: 1112)\n",
      "Coordinates:\n",
      "  * time             (time) datetime64[ns] 2020-04-01T10:26:57 ... 2020-04-29...\n",
      "  * y                (y) float64 5.521e+06 5.521e+06 ... 5.51e+06 5.51e+06\n",
      "  * x                (x) float64 5.612e+05 5.612e+05 ... 5.759e+05 5.759e+05\n",
      "    spatial_ref      int32 25832\n",
      "Data variables:\n",
      "    coastal_aerosol  (time, y, x) int16 408 475 475 475 ... 12189 12189 12189\n",
      "    blue             (time, y, x) int16 412 389 451 527 ... 10208 10352 10624\n",
      "    green            (time, y, x) int16 760 695 703 829 ... 10120 10272 10160\n",
      "    red              (time, y, x) int16 620 599 708 909 ... 10216 10256 10304\n",
      "    red_edge1        (time, y, x) int16 1366 1356 1356 ... 10592 10796 10796\n",
      "    red_edge2        (time, y, x) int16 3188 2814 2814 ... 10197 10532 10532\n",
      "    red_edge3        (time, y, x) int16 3656 3138 3138 2742 ... 9920 10420 10420\n",
      "    nir              (time, y, x) int16 3894 3363 3162 3064 ... 9952 9944 9984\n",
      "    narrow_nir       (time, y, x) int16 3883 3476 3476 3071 ... 9728 10168 10168\n",
      "    water_vapour     (time, y, x) int16 3824 3392 3392 ... 15629 15629 15629\n",
      "    swir1            (time, y, x) int16 2329 2494 2494 2816 ... 4946 5323 5323\n",
      "    swir2            (time, y, x) int16 1299 1461 1461 1836 ... 4129 4111 4111\n",
      "    scl              (time, y, x) uint8 4 4 4 4 4 5 5 5 5 ... 9 9 9 9 9 9 9 9 9\n",
      "Attributes:\n",
      "    crs:           EPSG:25832\n",
      "    grid_mapping:  spatial_ref\n"
     ]
    }
   ],
   "source": [
    "data = dc.load(product= \"s2_l2a_bavaria\",\n",
    "               x= (9.8506165, 10.0538635),\n",
    "               y= (49.7352601, 49.8335172),\n",
    "               time= (\"2020-04-01\", \"2020-04-30\"))\n",
    "\n",
    "print(data)"
   ]
  },
  {
   "cell_type": "markdown",
   "metadata": {},
   "source": [
    "## Interpretation of the `xarray.Dataset`\n",
    "\n",
    "The resulting variable returned from the `dc.load()` function is a `xarray.Dataset` which contains all data that matched our basic query. This data format stores the satellite data in an effective and easy way. For analyzing eo2cube data it is essential to understand the basic structure of an `xarray.Dataset`. Because of the importance of the `xarray`, we will devote a separate section to it later in the notebook.\n",
    "First, we will take a deeper look into the custimization of the `dc.load()` query.\n",
    "\n",
    "For going straight to the `xarray` section [click here](#xarray_intro). "
   ]
  },
  {
   "cell_type": "code",
   "execution_count": null,
   "metadata": {},
   "outputs": [],
   "source": []
  },
  {
   "cell_type": "code",
   "execution_count": null,
   "metadata": {},
   "outputs": [],
   "source": []
  },
  {
   "cell_type": "markdown",
   "metadata": {},
   "source": [
    "<a id='xarray_intro'></a>\n",
    "XARRAY INTRO"
   ]
  }
 ],
 "metadata": {
  "kernelspec": {
   "display_name": "Python 3",
   "language": "python",
   "name": "python3"
  },
  "language_info": {
   "codemirror_mode": {
    "name": "ipython",
    "version": 3
   },
   "file_extension": ".py",
   "mimetype": "text/x-python",
   "name": "python",
   "nbconvert_exporter": "python",
   "pygments_lexer": "ipython3",
   "version": "3.9.1"
  }
 },
 "nbformat": 4,
 "nbformat_minor": 4
}
